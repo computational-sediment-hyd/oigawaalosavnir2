{
 "cells": [
  {
   "cell_type": "code",
   "execution_count": null,
   "metadata": {},
   "outputs": [],
   "source": [
    "import xarray as xr\n",
    "import geoviews as gv\n",
    "import holoviews as hv\n",
    "import cartopy.crs as ccrs\n",
    "import numpy as np\n",
    "import pandas as pd\n",
    "from holoviews.operation.datashader import rasterize\n",
    "\n",
    "gv.extension('bokeh', logo=False)\n",
    "hv.extension('bokeh', logo=False)\n",
    "renderer = hv.Store.renderers['bokeh'].instance(mode='server', holomap='server')"
   ]
  },
  {
   "cell_type": "code",
   "execution_count": null,
   "metadata": {},
   "outputs": [],
   "source": [
    "# ds = xr.open_dataset('data/ndwi.nc')"
   ]
  },
  {
   "cell_type": "code",
   "execution_count": null,
   "metadata": {},
   "outputs": [],
   "source": [
    "#outcrs = ccrs.epsg(6676)\n",
    "#\n",
    "#figs = {}\n",
    "#for i, t in enumerate(ds.t.values):\n",
    "#    dss = ds.isel(t=i)\n",
    "#    ndwi = dss['ndwi']\n",
    "##     ndwi = np.where(ndwi==255, np.nan, ndwi)\n",
    "#    figs[t] = gv.Image((dss['x'], dss['y'], ndwi), crs=outcrs).options(cmap='gray_r',colorbar=False)\n",
    "#\n",
    "#hmap = gv.HoloMap(figs, kdims='time')\n",
    "#\n",
    "#url = 'https://cyberjapandata.gsi.go.jp/xyz/seamlessphoto/{Z}/{X}/{Y}.jpg'\n",
    "#geomap = gv.WMTS(url, crs=outcrs).options(width=500,height=400)"
   ]
  },
  {
   "cell_type": "code",
   "execution_count": null,
   "metadata": {},
   "outputs": [],
   "source": [
    "def parser(date):\n",
    "    b = date.split(' ')\n",
    "    c = b[1].split(':')\n",
    "    return pd.datetime.strptime(b[0],'%Y/%m/%d') + pd.Timedelta(hours=int(c[0]), minutes=int(c[1])) \n",
    "\n",
    "f = r'data/kanza_Q.csv'\n",
    "dfQ = pd.read_csv(f, engine='python', index_col=0, parse_dates=True, header=None, date_parser=parser)\n",
    "dfQ = dfQ.replace(-9999, np.nan)\n",
    "\n",
    "Q = hv.Curve( (dfQ.index,dfQ.values.flatten()),vdims='Discharge at Kanza' ).options(width=500,height=300)\n",
    "# figs2 = {}\n",
    "# for t in ds.t.values:\n",
    "#     figs2[t] = hv.VLine(t).options(color='r',)\n",
    "    \n",
    "# vl = gv.HoloMap(figs2, kdims='time')"
   ]
  },
  {
   "cell_type": "code",
   "execution_count": null,
   "metadata": {},
   "outputs": [],
   "source": [
    "# fig = ( geomap * rasterize(hmap, precompute=True) + Q * rasterize(vl, precompute=True) ).cols(1)\n",
    "fig =  Q #* rasterize(vl, precompute=True) \n",
    "\n",
    "doc,_ = renderer(fig)\n",
    "doc.title = \"Oigawa_Visualized_by_Alos-Avnir2\""
   ]
  }
 ],
 "metadata": {
  "kernelspec": {
   "display_name": "Python 3",
   "language": "python",
   "name": "python3"
  },
  "language_info": {
   "codemirror_mode": {
    "name": "ipython",
    "version": 3
   },
   "file_extension": ".py",
   "mimetype": "text/x-python",
   "name": "python",
   "nbconvert_exporter": "python",
   "pygments_lexer": "ipython3",
   "version": "3.6.4"
  },
  "toc": {
   "base_numbering": 1,
   "nav_menu": {},
   "number_sections": true,
   "sideBar": true,
   "skip_h1_title": false,
   "title_cell": "Table of Contents",
   "title_sidebar": "Contents",
   "toc_cell": false,
   "toc_position": {},
   "toc_section_display": true,
   "toc_window_display": false
  }
 },
 "nbformat": 4,
 "nbformat_minor": 2
}
