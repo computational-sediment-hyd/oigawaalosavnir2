{
 "cells": [
  {
   "cell_type": "code",
   "execution_count": null,
   "metadata": {},
   "outputs": [],
   "source": [
    "import numpy as np\n",
    "import xarray as xr\n",
    "import geoviews as gv\n",
    "import holoviews as hv\n",
    "import cartopy.crs as ccrs\n",
    "import pandas as pd\n",
    "import hvplot.xarray\n",
    "import hvplot.pandas\n",
    "\n",
    "gv.extension('bokeh', logo=False)\n",
    "hv.extension('bokeh', logo=False)\n",
    "renderer = hv.Store.renderers['bokeh'].instance(mode='server', holomap='server')"
   ]
  },
  {
   "cell_type": "code",
   "execution_count": null,
   "metadata": {},
   "outputs": [],
   "source": [
    "# ds = xr.open_dataset('data/rgb.nc')\n",
    "# ds = ds.isel(time=slice(0,2))"
   ]
  },
  {
   "cell_type": "code",
   "execution_count": null,
   "metadata": {},
   "outputs": [],
   "source": [
    "def parser(date):\n",
    "    b = date.split(' ')\n",
    "    c = b[1].split(':')\n",
    "    return pd.datetime.strptime(b[0],'%Y/%m/%d') + pd.Timedelta(hours=int(c[0]), minutes=int(c[1])) \n",
    "\n",
    "f = r'data/kanza_Q.csv'\n",
    "dfQ = pd.read_csv(f, engine='python', index_col=0, parse_dates=True, header=None, date_parser=parser)\n",
    "dfQ.columns = ['kanza_Q']\n",
    "dfQ.index.name='time'\n",
    "dfQ = dfQ.replace(-9999, np.nan)\n",
    "\n",
    "gQ = dfQ.hvplot(width=700)\n",
    "\n",
    "# t = ds.time.values\n",
    "# timeUTC = pd.to_datetime(t, utc=True).tz_convert('Asia/Tokyo').round('1H')\n",
    "\n",
    "# Qp = []\n",
    "# for time in pd.to_datetime( timeUTC.tz_localize(None) ):\n",
    "#     Qp.append( dfQ[ dfQ.index==time ].kanza_Q.values[0] )\n",
    "    \n",
    "# dsQ = xr.Dataset({'kanza_Q': (['time'], np.array(Qp))}, coords={'time': ds['time'].values } )\n",
    "# gp = dsQ.hvplot.scatter('time','kanza_Q', groupby='time', legend=False, color='red', size=100)"
   ]
  },
  {
   "cell_type": "code",
   "execution_count": null,
   "metadata": {},
   "outputs": [],
   "source": [
    "outcrs = ccrs.epsg(6676)\n",
    "url = 'https://cyberjapandata.gsi.go.jp/xyz/seamlessphoto/{Z}/{X}/{Y}.jpg'\n",
    "geomap = gv.WMTS(url, crs=outcrs)\n",
    "# fig = (geomap * ds.hvplot.rgb('x','y', z='z',bands='band',groupby='time', width=700, height=500) + gQ * gp).cols(1)\n",
    "fig =  gQ \n",
    "doc,_ = renderer(fig)\n",
    "doc.title = \"Oigawa_Visualized_by_Alos-Avnir2\""
   ]
  }
 ],
 "metadata": {
  "kernelspec": {
   "display_name": "Python 3",
   "language": "python",
   "name": "python3"
  },
  "language_info": {
   "codemirror_mode": {
    "name": "ipython",
    "version": 3
   },
   "file_extension": ".py",
   "mimetype": "text/x-python",
   "name": "python",
   "nbconvert_exporter": "python",
   "pygments_lexer": "ipython3",
   "version": "3.6.4"
  },
  "toc": {
   "base_numbering": 1,
   "nav_menu": {},
   "number_sections": true,
   "sideBar": true,
   "skip_h1_title": false,
   "title_cell": "Table of Contents",
   "title_sidebar": "Contents",
   "toc_cell": false,
   "toc_position": {},
   "toc_section_display": true,
   "toc_window_display": false
  }
 },
 "nbformat": 4,
 "nbformat_minor": 2
}
